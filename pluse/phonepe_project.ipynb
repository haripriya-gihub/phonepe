{
  "cells": [
    {
      "cell_type": "code",
      "execution_count": 4,
      "metadata": {
        "colab": {
          "base_uri": "https://localhost:8080/"
        },
        "id": "TV3Qx4cj5Ydh",
        "outputId": "098a0881-e4a1-4ec0-ce5e-259b50ac16ca"
      },
      "outputs": [
        {
          "name": "stderr",
          "output_type": "stream",
          "text": [
            "fatal: destination path 'pulse' already exists and is not an empty directory.\n"
          ]
        }
      ],
      "source": [
        "!git clone https://github.com/PhonePe/pulse.git"
      ]
    },
    {
      "cell_type": "code",
      "execution_count": 5,
      "metadata": {
        "colab": {
          "base_uri": "https://localhost:8080/",
          "height": 424
        },
        "id": "48J7CL4t8ODE",
        "outputId": "30537516-b622-41ed-abfc-c65fe9061623"
      },
      "outputs": [
        {
          "name": "stdout",
          "output_type": "stream",
          "text": [
            "                          State  Year  Quater           Transacion_type  \\\n",
            "0     andaman-&-nicobar-islands  2018       1  Recharge & bill payments   \n",
            "1     andaman-&-nicobar-islands  2018       1     Peer-to-peer payments   \n",
            "2     andaman-&-nicobar-islands  2018       1         Merchant payments   \n",
            "3     andaman-&-nicobar-islands  2018       1        Financial Services   \n",
            "4     andaman-&-nicobar-islands  2018       1                    Others   \n",
            "...                         ...   ...     ...                       ...   \n",
            "3589                west-bengal  2022       4     Peer-to-peer payments   \n",
            "3590                west-bengal  2022       4         Merchant payments   \n",
            "3591                west-bengal  2022       4  Recharge & bill payments   \n",
            "3592                west-bengal  2022       4        Financial Services   \n",
            "3593                west-bengal  2022       4                    Others   \n",
            "\n",
            "      Transacion_count  Transacion_amount  \n",
            "0                 4200       1.845307e+06  \n",
            "1                 1871       1.213866e+07  \n",
            "2                  298       4.525072e+05  \n",
            "3                   33       1.060142e+04  \n",
            "4                  256       1.846899e+05  \n",
            "...                ...                ...  \n",
            "3589         184380244       6.202222e+11  \n",
            "3590         171667404       1.408077e+11  \n",
            "3591          48921147       2.602663e+10  \n",
            "3592            268388       2.611229e+08  \n",
            "3593            610414       4.579379e+08  \n",
            "\n",
            "[3594 rows x 6 columns]\n"
          ]
        }
      ],
      "source": [
        "\n",
        "\n",
        "#Once created the clone of GIT-HUB repository then,\n",
        "#Required libraries for the program\n",
        "#aggregated transaction\n",
        "import pandas as pd\n",
        "import json\n",
        "import os\n",
        "\n",
        "#This is to direct the path to get the data as states\n",
        "\n",
        "path=\"C:\\\\phonepe\\\\pulse\\\\data\\\\aggregated\\\\transaction\\\\country\\\\india\\\\state\\\\\"\n",
        "Agg_state_list=os.listdir(path)\n",
        "Agg_state_list\n",
        "#Agg_state_list--> to get the list of states in India\n",
        "\n",
        "#<------------------------------------------------------------------------------------------------------------------------------------------------------------------------------------------------------------>#\n",
        "\n",
        "#This is to extract the data's to create a dataframe\n",
        "\n",
        "clm={'State':[], 'Year':[],'Quater':[],'Transacion_type':[], 'Transacion_count':[], 'Transacion_amount':[]}\n",
        "for i in Agg_state_list:\n",
        "    p_i=path+i+\"/\"\n",
        "    Agg_yr=os.listdir(p_i)    \n",
        "    for j in Agg_yr:\n",
        "        p_j=p_i+j+\"/\"\n",
        "        Agg_yr_list=os.listdir(p_j)        \n",
        "        for k in Agg_yr_list:\n",
        "            p_k=p_j+k\n",
        "            Data=open(p_k,'r')\n",
        "            D=json.load(Data)\n",
        "            for z in D['data']['transactionData']:\n",
        "              Name=z['name']\n",
        "              count=z['paymentInstruments'][0]['count']\n",
        "              amount=z['paymentInstruments'][0]['amount']\n",
        "              clm['Transacion_type'].append(Name)\n",
        "              clm['Transacion_count'].append(count)\n",
        "              clm['Transacion_amount'].append(amount)\n",
        "              clm['State'].append(i)\n",
        "              clm['Year'].append(j)\n",
        "              clm['Quater'].append(int(k.strip('.json')))\n",
        "#Succesfully created a dataframe\n",
        "\n",
        "df_aggregated_transaction=pd.DataFrame(clm)\n",
        "print(df_aggregated_transaction)\n",
        "\n"
      ]
    },
    {
      "cell_type": "code",
      "execution_count": 8,
      "metadata": {
        "id": "G-55F0nGVYof"
      },
      "outputs": [
        {
          "data": {
            "text/plain": [
              "3594"
            ]
          },
          "execution_count": 8,
          "metadata": {},
          "output_type": "execute_result"
        }
      ],
      "source": [
        "#import sqlite3\n",
        "#import pandas as pd\n",
        "#insert dataframe to sql-lite database\n",
        "#connection = sqlite3.connect(\"phonepe.db\")\n",
        "#cursor = connection.cursor()\n",
        "#agg_Trans = pd.DataFrame(clm)\n",
        "#agg_Trans.to_sql('aggregated_transaction', connection, if_exists='replace')\n"
      ]
    },
    {
      "cell_type": "code",
      "execution_count": 9,
      "metadata": {
        "colab": {
          "base_uri": "https://localhost:8080/"
        },
        "id": "9HNWeAPkWH3F",
        "outputId": "ebf15826-c670-4793-be5f-706fcb7c1db7"
      },
      "outputs": [
        {
          "name": "stdout",
          "output_type": "stream",
          "text": [
            "   Year  Total_amount\n",
            "0  2018  1.623045e+12\n",
            "1  2019  6.276688e+12\n",
            "2  2020  1.464116e+13\n",
            "3  2021  3.459870e+13\n",
            "4  2022  6.426633e+13\n"
          ]
        }
      ],
      "source": [
        "#dat = sqlite3.connect('phonepe.db')\n",
        "#query = dat.execute(\"SELECT SUM(Transacion_count) FROM aggregated_transaction WHERE Transacion_type = 'Others' and year=2018 and Quater=1\")\n",
        "#query = dat.execute(\"SELECT Year,SUM(Transacion_amount) AS Total_amount FROM aggregated_Transaction GROUP BY Year\",)\n",
        "#query = dat.execute(\"SELECT SUM(Transacion_amount) AS total_amount FROM aggregated_transaction WHERE Quater = 1 AND Year = 2018\")\n",
        "\n",
        "#cols = [column[0] for column in query.description]\n",
        "#results= pd.DataFrame.from_records(data = query.fetchall(), columns = cols)\n",
        "#print(results)"
      ]
    },
    {
      "cell_type": "code",
      "execution_count": 6,
      "metadata": {
        "colab": {
          "base_uri": "https://localhost:8080/",
          "height": 424
        },
        "id": "O0V3p5XJm31e",
        "outputId": "cabe90c0-bbbc-4529-a8d6-ddd33f8b8829"
      },
      "outputs": [
        {
          "name": "stdout",
          "output_type": "stream",
          "text": [
            "                           State  Year  Quater  \\\n",
            "0      andaman-&-nicobar-islands  2018       1   \n",
            "1      andaman-&-nicobar-islands  2018       1   \n",
            "2      andaman-&-nicobar-islands  2018       1   \n",
            "3      andaman-&-nicobar-islands  2018       2   \n",
            "4      andaman-&-nicobar-islands  2018       2   \n",
            "...                          ...   ...     ...   \n",
            "14631                west-bengal  2022       4   \n",
            "14632                west-bengal  2022       4   \n",
            "14633                west-bengal  2022       4   \n",
            "14634                west-bengal  2022       4   \n",
            "14635                west-bengal  2022       4   \n",
            "\n",
            "                                district  Transaction_count  \\\n",
            "0      north and middle andaman district                442   \n",
            "1                 south andaman district               5688   \n",
            "2                      nicobars district                528   \n",
            "3      north and middle andaman district                825   \n",
            "4                 south andaman district               9395   \n",
            "...                                  ...                ...   \n",
            "14631                     nadia district           12690126   \n",
            "14632                   birbhum district            7617444   \n",
            "14633           purba medinipur district           14484229   \n",
            "14634                    maldah district           12492746   \n",
            "14635                 darjiling district            8827502   \n",
            "\n",
            "       Transaction_amount  \n",
            "0            9.316631e+05  \n",
            "1            1.256025e+07  \n",
            "2            1.139849e+06  \n",
            "3            1.317863e+06  \n",
            "4            2.394824e+07  \n",
            "...                   ...  \n",
            "14631        2.804568e+10  \n",
            "14632        1.614650e+10  \n",
            "14633        3.309949e+10  \n",
            "14634        2.721861e+10  \n",
            "14635        1.801650e+10  \n",
            "\n",
            "[14636 rows x 6 columns]\n"
          ]
        }
      ],
      "source": [
        "\n",
        "#from sqlalchemy.engine.create import engine_from_config\n",
        "#from sqlalchemy import create_engine\n",
        "#engine = create_engine('sqlite://', echo=False)\n",
        "\n",
        "\n",
        "import pandas as pd\n",
        "import json\n",
        "import os\n",
        "#map transaction\n",
        "\n",
        "path=\"C:\\\\phonepe\\\\pulse\\\\data\\\\map\\\\transaction\\\\hover\\\\country\\\\india\\\\state\\\\\"\n",
        "Agg_state_list=os.listdir(path)\n",
        "Agg_state_list\n",
        "#Agg_state_list--> to get the list of states in India\n",
        "\n",
        "#<------------------------------------------------------------------------------------------------------------------------------------------------------------------------------------------------------------>#\n",
        "\n",
        "#This is to extract the data's to create a dataframe\n",
        "\n",
        "col2={'State':[], 'Year':[],'Quater':[],'district':[], 'Transaction_count':[], 'Transaction_amount':[]}\n",
        "for i in Agg_state_list:\n",
        "    p_i=path+i+\"/\"\n",
        "    \n",
        "    Agg_yr=os.listdir(p_i)   \n",
        "    \n",
        "    for j in Agg_yr:\n",
        "        p_j=p_i+j+\"/\"\n",
        "        \n",
        "        Agg_yr_list=os.listdir(p_j)        \n",
        "        for k in Agg_yr_list:\n",
        "            p_k=p_j+k\n",
        "            \n",
        "            Data=open(p_k,'r')\n",
        "            D=json.load(Data)\n",
        "            \n",
        "            \n",
        "            for z in D['data']['hoverDataList']:\n",
        "                 District = z['name']\n",
        "                 count = z['metric'][0]['count']\n",
        "                 amount = z['metric'][0]['amount']\n",
        "                 col2['district'].append(District)\n",
        "                 col2['Transaction_count'].append(count)\n",
        "                 col2['Transaction_amount'].append(amount)\n",
        "                 col2['State'].append(i)\n",
        "                 col2['Year'].append(j)\n",
        "                 col2['Quater'].append(int(k.strip('.json')))\n",
        "\n",
        "df_map_transaction=pd.DataFrame(col2)\n",
        "print(df_map_transaction)\n"
      ]
    },
    {
      "cell_type": "code",
      "execution_count": 7,
      "metadata": {
        "id": "DH5JNt1vZZZi"
      },
      "outputs": [
        {
          "data": {
            "text/plain": [
              "14636"
            ]
          },
          "execution_count": 7,
          "metadata": {},
          "output_type": "execute_result"
        }
      ],
      "source": [
        "import sqlite3\n",
        "import pandas as pd\n",
        "#insert dataframe to sql-lite database\n",
        "connection = sqlite3.connect(\"phonepe.db\")\n",
        "cursor = connection.cursor()\n",
        "agg_Trans = pd.DataFrame(col2)\n",
        "agg_Trans.to_sql('map_transaction', connection, if_exists='replace')\n"
      ]
    },
    {
      "cell_type": "code",
      "execution_count": 9,
      "metadata": {},
      "outputs": [
        {
          "name": "stdout",
          "output_type": "stream",
          "text": [
            "                                 State                             district\n",
            "0            andaman-&-nicobar-islands    north and middle andaman district\n",
            "1                       andhra-pradesh               east godavari district\n",
            "2                    arunachal-pradesh         lower dibang valley district\n",
            "3                                assam                    tinsukia district\n",
            "4                                bihar                   madhepura district\n",
            "5                           chandigarh                  chandigarh district\n",
            "6                         chhattisgarh                    dhamtari district\n",
            "7   dadra-&-nagar-haveli-&-daman-&-diu                         diu district\n",
            "8                                delhi                       south district\n",
            "9                                  goa                   north goa district\n",
            "10                             gujarat                       anand district\n",
            "11                             haryana                 yamunanagar district\n",
            "12                    himachal-pradesh                       solan district\n",
            "13                     jammu-&-kashmir                muzaffarabad district\n",
            "14                           jharkhand                     ramgarh district\n",
            "15                           karnataka                      mysuru district\n",
            "16                              kerala          thiruvananthapuram district\n",
            "17                              ladakh                      kargil district\n",
            "18                         lakshadweep                 lakshadweep district\n",
            "19                      madhya-pradesh                      morena district\n",
            "20                         maharashtra                     jalgaon district\n",
            "21                             manipur                   kangpokpi district\n",
            "22                           meghalaya            north garo hills district\n",
            "23                             mizoram                    serchhip district\n",
            "24                            nagaland                         mon district\n",
            "25                              odisha                    rayagada district\n",
            "26                          puducherry                    karaikal district\n",
            "27                              punjab   shahid bhagat singh nagar district\n",
            "28                           rajasthan                        pali district\n",
            "29                              sikkim                       south district\n",
            "30                          tamil-nadu             tiruchirappalli district\n",
            "31                           telangana                  narayanpet district\n",
            "32                             tripura                     unakoti district\n",
            "33                       uttar-pradesh                      amethi district\n",
            "34                         uttarakhand                   bageshwar district\n",
            "35                         west-bengal  south twenty four parganas district\n"
          ]
        }
      ],
      "source": [
        "dat = sqlite3.connect('phonepe.db')\n",
        "query = dat.execute('SELECT DISTINCT State,district FROM map_transaction GROUP BY State')\n",
        "cols = [column[0] for column in query.description]\n",
        "results= pd.DataFrame.from_records(data = query.fetchall(), columns = cols)\n",
        "print(results)"
      ]
    },
    {
      "cell_type": "code",
      "execution_count": 24,
      "metadata": {
        "colab": {
          "base_uri": "https://localhost:8080/",
          "height": 424
        },
        "id": "DE0OHyi8m_sk",
        "outputId": "4d2d1d41-16dd-4638-cbf3-4f4ee6b27760"
      },
      "outputs": [
        {
          "name": "stdout",
          "output_type": "stream",
          "text": [
            "                          State  Year  Quater       Transaction_districts  \\\n",
            "0     andaman-&-nicobar-islands  2018       1               south andaman   \n",
            "1     andaman-&-nicobar-islands  2018       1                    nicobars   \n",
            "2     andaman-&-nicobar-islands  2018       1    north and middle andaman   \n",
            "3     andaman-&-nicobar-islands  2018       2               south andaman   \n",
            "4     andaman-&-nicobar-islands  2018       2                    nicobars   \n",
            "...                         ...   ...     ...                         ...   \n",
            "5915                west-bengal  2022       4  south twenty four parganas   \n",
            "5916                west-bengal  2022       4             purba medinipur   \n",
            "5917                west-bengal  2022       4                     hooghly   \n",
            "5918                west-bengal  2022       4                      howrah   \n",
            "5919                west-bengal  2022       4           paschim medinipur   \n",
            "\n",
            "      Transaction_count  Transaction_amount  \n",
            "0                  5688        1.256025e+07  \n",
            "1                   528        1.139849e+06  \n",
            "2                   442        9.316631e+05  \n",
            "3                  9395        2.394824e+07  \n",
            "4                  1120        3.072437e+06  \n",
            "...                 ...                 ...  \n",
            "5915           15651650        3.373698e+10  \n",
            "5916           14484229        3.309949e+10  \n",
            "5917           13931352        2.755409e+10  \n",
            "5918           13350090        2.793786e+10  \n",
            "5919           12768161        2.521681e+10  \n",
            "\n",
            "[5920 rows x 6 columns]\n"
          ]
        }
      ],
      "source": [
        "import pandas as pd\n",
        "import json\n",
        "import os\n",
        "\n",
        "\n",
        "path=\"C:\\\\phonepe\\\\pulse\\\\data\\\\top\\\\transaction\\\\country\\\\india\\\\state\\\\\"\n",
        "Agg_state_list=os.listdir(path)\n",
        "Agg_state_list\n",
        "#top transaction\n",
        "#Agg_state_list--> to get the list of states in India\n",
        "\n",
        "#<------------------------------------------------------------------------------------------------------------------------------------------------------------------------------------------------------------>#\n",
        "\n",
        "#This is to extract the data's to create a dataframe\n",
        "\n",
        "clm3={'State':[], 'Year':[],'Quater':[],'Transaction_districts':[], 'Transaction_count':[], 'Transaction_amount':[]}\n",
        "for i in Agg_state_list:\n",
        "    p_i=path+i+\"/\"\n",
        "    \n",
        "    Agg_yr=os.listdir(p_i)   \n",
        "    \n",
        "    for j in Agg_yr:\n",
        "        p_j=p_i+j+\"/\"\n",
        "        \n",
        "        Agg_yr_list=os.listdir(p_j)        \n",
        "        for k in Agg_yr_list:\n",
        "            p_k=p_j+k\n",
        "            \n",
        "            Data=open(p_k,'r')\n",
        "            D=json.load(Data)\n",
        "            \n",
        "            data = D.get('data')\n",
        "            districts = data.get('districts')\n",
        "            pincodes = data.get('pincodes')\n",
        "\n",
        "            for z in D['data']['districts'] or D['data']['pincodes']:\n",
        "                Name = z['entityName']\n",
        "                count = z['metric']['count']\n",
        "                amount = z['metric']['amount']\n",
        "                clm3['Transaction_districts'].append(Name)\n",
        "                clm3['Transaction_count'].append(count)\n",
        "                clm3['Transaction_amount'].append(amount)\n",
        "                clm3['State'].append(i)\n",
        "                clm3['Year'].append(j)\n",
        "                clm3['Quater'].append(int(k.strip('.json')))\n",
        "#pd.DataFrame(clm)\n",
        "#print(clm)\n",
        "df_top_transaction=pd.DataFrame(clm3)\n",
        "print(df_top_transaction)\n",
        "\n",
        "\n",
        "              \n"
      ]
    },
    {
      "cell_type": "code",
      "execution_count": 15,
      "metadata": {
        "colab": {
          "base_uri": "https://localhost:8080/"
        },
        "id": "imncNjHWaKEq",
        "outputId": "10df2971-d95e-4966-d0ea-9ce347311bcc"
      },
      "outputs": [
        {
          "data": {
            "text/plain": [
              "5920"
            ]
          },
          "execution_count": 15,
          "metadata": {},
          "output_type": "execute_result"
        }
      ],
      "source": [
        "\n",
        "#connection = sqlite3.connect(\"phonepe.db\")\n",
        "#cursor = connection.cursor()\n",
        "#agg_Trans = pd.DataFrame(clm)\n",
        "#agg_Trans.to_sql('top_transaction', connection, if_exists='replace')\n"
      ]
    },
    {
      "cell_type": "code",
      "execution_count": 16,
      "metadata": {},
      "outputs": [
        {
          "name": "stdout",
          "output_type": "stream",
          "text": [
            "   index      State  Year  Quater Transaction_districts  Transaction_count  \\\n",
            "0   5150  telangana  2022       4             hyderabad         1133829812   \n",
            "1   5140  telangana  2022       3             hyderabad         1018658174   \n",
            "2   2570  karnataka  2022       4       bengaluru urban          876647100   \n",
            "3   2550  karnataka  2022       2       bengaluru urban          786978117   \n",
            "4   2560  karnataka  2022       3       bengaluru urban          738035161   \n",
            "\n",
            "   Transaction_amount  \n",
            "0        1.753799e+12  \n",
            "1        1.586047e+12  \n",
            "2        1.092079e+12  \n",
            "3        1.013934e+12  \n",
            "4        9.308865e+11  \n"
          ]
        }
      ],
      "source": [
        "#dat = sqlite3.connect('phonepe.db')\n",
        "#query = dat.execute(\"SELECT * From top_transaction\")\n",
        "#query = dat.execute(\"SELECT * FROM top_transaction ORDER BY transaction_amount DESC LIMIT 5\")\n",
        "#cols = [column[0] for column in query.description]\n",
        "#results= pd.DataFrame.from_records(data = query.fetchall(), columns = cols)\n",
        "#print(results)"
      ]
    },
    {
      "cell_type": "code",
      "execution_count": 25,
      "metadata": {
        "colab": {
          "base_uri": "https://localhost:8080/",
          "height": 424
        },
        "id": "lr-0-DzmnH1F",
        "outputId": "a6d7f968-6a9b-4e83-89e7-450b208dfb79"
      },
      "outputs": [
        {
          "name": "stdout",
          "output_type": "stream",
          "text": [
            "                          State  Year  Quater  registered_users  app_opens  \\\n",
            "0     andaman-&-nicobar-islands  2018       1              6740          0   \n",
            "1     andaman-&-nicobar-islands  2018       1              6740          0   \n",
            "2     andaman-&-nicobar-islands  2018       1              6740          0   \n",
            "3     andaman-&-nicobar-islands  2018       1              6740          0   \n",
            "4     andaman-&-nicobar-islands  2018       1              6740          0   \n",
            "...                         ...   ...     ...               ...        ...   \n",
            "6727                west-bengal  2022       1          21919787  236131065   \n",
            "6728                west-bengal  2022       1          21919787  236131065   \n",
            "6729                west-bengal  2022       1          21919787  236131065   \n",
            "6730                west-bengal  2022       1          21919787  236131065   \n",
            "6731                west-bengal  2022       1          21919787  236131065   \n",
            "\n",
            "     phone_brand  phone_brand_count  phone_percentage  \n",
            "0         Xiaomi               1665          0.247033  \n",
            "1        Samsung               1445          0.214392  \n",
            "2           Vivo                982          0.145697  \n",
            "3           Oppo                501          0.074332  \n",
            "4        OnePlus                332          0.049258  \n",
            "...          ...                ...               ...  \n",
            "6727      Lenovo             330017          0.015056  \n",
            "6728     Infinix             284678          0.012987  \n",
            "6729        Asus             280347          0.012790  \n",
            "6730       Apple             277752          0.012671  \n",
            "6731      Others            2196334          0.100199  \n",
            "\n",
            "[6732 rows x 8 columns]\n"
          ]
        }
      ],
      "source": [
        "\n",
        "\n",
        "import pandas as pd\n",
        "import json\n",
        "import os\n",
        "#aggregated user\n",
        "\n",
        "path=\"C:\\\\phonepe\\\\pulse\\\\data\\\\aggregated\\\\user\\\\country\\\\india\\\\state\\\\\"\n",
        "Agg_state_list=os.listdir(path)\n",
        "Agg_state_list\n",
        "#Agg_state_list--> to get the list of states in India\n",
        "\n",
        "#<------------------------------------------------------------------------------------------------------------------------------------------------------------------------------------------------------------>#\n",
        "\n",
        "#This is to extract the data's to create a dataframe\n",
        "\n",
        "clm4={'State':[], 'Year':[],'Quater':[],'registered_users':[],'app_opens':[], 'phone_brand':[], 'phone_brand_count':[] ,'phone_percentage':[]}\n",
        "for i in Agg_state_list:\n",
        "    p_i=path+i+\"/\"\n",
        "    \n",
        "    Agg_yr=os.listdir(p_i)   \n",
        "    \n",
        "    for j in Agg_yr:\n",
        "        p_j=p_i+j+\"/\"\n",
        "        \n",
        "        Agg_yr_list=os.listdir(p_j)        \n",
        "        for k in Agg_yr_list:\n",
        "            p_k=p_j+k\n",
        "            \n",
        "            Data=open(p_k,'r')\n",
        "            D=json.load(Data)\n",
        "            registeredUsers = D['data']['aggregated']['registeredUsers']\n",
        "            appOpens = D['data']['aggregated']['appOpens']\n",
        "            \n",
        "            data = D.get('data',[])\n",
        "            usersByDevice = data.get('usersByDevice',[])\n",
        "\n",
        "            for z in usersByDevice or []:\n",
        "             \n",
        "              Brand = z['brand']\n",
        "              count = z['count']\n",
        "              percentage = z['percentage']\n",
        "              clm4['registered_users'].append(registeredUsers)\n",
        "              clm4['app_opens'].append(appOpens)\n",
        "              clm4['phone_brand'].append(Brand)\n",
        "              clm4['phone_brand_count'].append(count)\n",
        "              clm4['phone_percentage'].append(percentage)\n",
        "              clm4['State'].append(i)\n",
        "              clm4['Year'].append(j)\n",
        "              clm4['Quater'].append(int(k.strip('.json')))\n",
        "#pd.DataFrame(clm)\n",
        "\n",
        "df_aggregated_user=pd.DataFrame(clm4)\n",
        "print(df_aggregated_user)\n"
      ]
    },
    {
      "cell_type": "code",
      "execution_count": 19,
      "metadata": {
        "id": "rUv19ES8gvZl"
      },
      "outputs": [
        {
          "data": {
            "text/plain": [
              "6732"
            ]
          },
          "execution_count": 19,
          "metadata": {},
          "output_type": "execute_result"
        }
      ],
      "source": [
        "#dat = sqlite3.connect('phonepe.db')\n",
        "#cursor = connection.cursor()\n",
        "#agg_Trans = pd.DataFrame(clm)\n",
        "#agg_Trans.to_sql('aggregated_user', connection, if_exists='replace')"
      ]
    },
    {
      "cell_type": "code",
      "execution_count": 20,
      "metadata": {},
      "outputs": [
        {
          "name": "stdout",
          "output_type": "stream",
          "text": [
            "Empty DataFrame\n",
            "Columns: [index, State, Year, Quater, registered_users, app_opens, phone_brand, phone_brand_count, phone_percentage]\n",
            "Index: []\n"
          ]
        }
      ],
      "source": [
        "#dat = sqlite3.connect('phonepe.db')\n",
        "#query = dat.execute(\"SELECT * FROM aggregated_user WHERE Quater = 2 and year = 2022\")\n",
        "#cols = [column[0] for column in query.description]\n",
        "#results= pd.DataFrame.from_records(data = query.fetchall(), columns = cols)\n",
        "#print(results)"
      ]
    },
    {
      "cell_type": "code",
      "execution_count": 27,
      "metadata": {
        "colab": {
          "base_uri": "https://localhost:8080/",
          "height": 424
        },
        "id": "PZvpDhz6nMru",
        "outputId": "d2fc3f98-aa3c-4e59-ede8-65c4b4be6abb"
      },
      "outputs": [
        {
          "name": "stdout",
          "output_type": "stream",
          "text": [
            "                           State  Year  Quater  \\\n",
            "0      andaman-&-nicobar-islands  2018       1   \n",
            "1      andaman-&-nicobar-islands  2018       1   \n",
            "2      andaman-&-nicobar-islands  2018       1   \n",
            "3      andaman-&-nicobar-islands  2018       2   \n",
            "4      andaman-&-nicobar-islands  2018       2   \n",
            "...                          ...   ...     ...   \n",
            "14635                west-bengal  2022       4   \n",
            "14636                west-bengal  2022       4   \n",
            "14637                west-bengal  2022       4   \n",
            "14638                west-bengal  2022       4   \n",
            "14639                west-bengal  2022       4   \n",
            "\n",
            "                                district  map_registered_users  app_opens  \n",
            "0      north and middle andaman district                   632          0  \n",
            "1                 south andaman district                  5846          0  \n",
            "2                      nicobars district                   262          0  \n",
            "3      north and middle andaman district                   911          0  \n",
            "4                 south andaman district                  8143          0  \n",
            "...                                  ...                   ...        ...  \n",
            "14635                     nadia district               1359420   33853990  \n",
            "14636                   birbhum district                855236   20950662  \n",
            "14637           purba medinipur district               1346908   38278506  \n",
            "14638                    maldah district                954892   29023743  \n",
            "14639                 darjiling district                564562   15982631  \n",
            "\n",
            "[14640 rows x 6 columns]\n"
          ]
        }
      ],
      "source": [
        "\n",
        "\n",
        "import pandas as pd\n",
        "import json\n",
        "import os\n",
        "#map user\n",
        "\n",
        "path=\"C:\\\\phonepe\\\\pulse\\\\data\\\\map\\\\user\\\\hover\\\\country\\\\india\\\\state\\\\\"\n",
        "Agg_state_list=os.listdir(path)\n",
        "Agg_state_list\n",
        "#Agg_state_list--> to get the list of states in India\n",
        "\n",
        "#<------------------------------------------------------------------------------------------------------------------------------------------------------------------------------------------------------------>#\n",
        "\n",
        "#This is to extract the data's to create a dataframe\n",
        "\n",
        "clm5={'State':[], 'Year':[],'Quater':[],'district':[], 'map_registered_users':[], 'app_opens':[]}\n",
        "for i in Agg_state_list:\n",
        "    p_i=path+i+\"/\"\n",
        "    \n",
        "    Agg_yr=os.listdir(p_i)   \n",
        "    \n",
        "    for j in Agg_yr:\n",
        "        p_j=p_i+j+\"/\"\n",
        "        \n",
        "        Agg_yr_list=os.listdir(p_j)        \n",
        "        for k in Agg_yr_list:\n",
        "            p_k=p_j+k\n",
        "            \n",
        "            Data=open(p_k,'r')\n",
        "            D=json.load(Data)\n",
        "            # registeredUsers = D['data']['hoverData']['registeredUsers']\n",
        "            # appOpens = D['data']['hoverData']['appOpens']\n",
        "            \n",
        "            data = D.get('data')\n",
        "            hoverData = data.get('hoverData')\n",
        "            for district, value in hoverData.items():\n",
        "              registeredUsers = value.get('registeredUsers')\n",
        "              appOpens = value.get('appOpens')\n",
        "              clm5['district'].append(district)\n",
        "              clm5['map_registered_users'].append(registeredUsers)\n",
        "              clm5['app_opens'].append(appOpens)\n",
        "              clm5['State'].append(i)\n",
        "              clm5['Year'].append(j)\n",
        "              clm5['Quater'].append(int(k.strip('.json')))\n",
        "#pd.DataFrame(clm)\n",
        "\n",
        "df_map_user=pd.DataFrame(clm5)\n",
        "print(df_map_user)\n",
        "\n",
        "\n",
        "            \n"
      ]
    },
    {
      "cell_type": "code",
      "execution_count": 23,
      "metadata": {
        "id": "t5Fk0jkYLc2i"
      },
      "outputs": [
        {
          "data": {
            "text/plain": [
              "14640"
            ]
          },
          "execution_count": 23,
          "metadata": {},
          "output_type": "execute_result"
        }
      ],
      "source": [
        "#dat = sqlite3.connect('phonepe.db')\n",
        "#cursor = connection.cursor()\n",
        "#agg_Trans = pd.DataFrame(clm)\n",
        "#agg_Trans.to_sql('map_user', connection, if_exists='replace')"
      ]
    },
    {
      "cell_type": "code",
      "execution_count": 24,
      "metadata": {},
      "outputs": [
        {
          "name": "stdout",
          "output_type": "stream",
          "text": [
            "       index                      State  Year  Quater  \\\n",
            "0          0  andaman-&-nicobar-islands  2018       1   \n",
            "1          1  andaman-&-nicobar-islands  2018       1   \n",
            "2          2  andaman-&-nicobar-islands  2018       1   \n",
            "3          3  andaman-&-nicobar-islands  2018       2   \n",
            "4          4  andaman-&-nicobar-islands  2018       2   \n",
            "...      ...                        ...   ...     ...   \n",
            "14635  14635                west-bengal  2022       4   \n",
            "14636  14636                west-bengal  2022       4   \n",
            "14637  14637                west-bengal  2022       4   \n",
            "14638  14638                west-bengal  2022       4   \n",
            "14639  14639                west-bengal  2022       4   \n",
            "\n",
            "                                district  map_registered_users  app_opens  \n",
            "0      north and middle andaman district                   632          0  \n",
            "1                 south andaman district                  5846          0  \n",
            "2                      nicobars district                   262          0  \n",
            "3      north and middle andaman district                   911          0  \n",
            "4                 south andaman district                  8143          0  \n",
            "...                                  ...                   ...        ...  \n",
            "14635                     nadia district               1359420   33853990  \n",
            "14636                   birbhum district                855236   20950662  \n",
            "14637           purba medinipur district               1346908   38278506  \n",
            "14638                    maldah district                954892   29023743  \n",
            "14639                 darjiling district                564562   15982631  \n",
            "\n",
            "[14640 rows x 7 columns]\n"
          ]
        }
      ],
      "source": [
        "#dat = sqlite3.connect('phonepe.db')\n",
        "#query = dat.execute(\"SELECT * From map_user\")\n",
        "#cols = [column[0] for column in query.description]\n",
        "#results= pd.DataFrame.from_records(data = query.fetchall(), columns = cols)\n",
        "#print(results)"
      ]
    },
    {
      "cell_type": "code",
      "execution_count": 28,
      "metadata": {
        "colab": {
          "base_uri": "https://localhost:8080/",
          "height": 424
        },
        "id": "kmDZ6LUKnR_I",
        "outputId": "69685f1d-8ad7-41a9-c6f9-3a1f4a49c0bb"
      },
      "outputs": [
        {
          "name": "stdout",
          "output_type": "stream",
          "text": [
            "                          State  Year  Quater             district_name  \\\n",
            "0     andaman-&-nicobar-islands  2018       1             south andaman   \n",
            "1     andaman-&-nicobar-islands  2018       1  north and middle andaman   \n",
            "2     andaman-&-nicobar-islands  2018       1                  nicobars   \n",
            "3     andaman-&-nicobar-islands  2018       2             south andaman   \n",
            "4     andaman-&-nicobar-islands  2018       2  north and middle andaman   \n",
            "...                         ...   ...     ...                       ...   \n",
            "5915                west-bengal  2022       4                    howrah   \n",
            "5916                west-bengal  2022       4                     nadia   \n",
            "5917                west-bengal  2022       4           purba medinipur   \n",
            "5918                west-bengal  2022       4         paschim medinipur   \n",
            "5919                west-bengal  2022       4           purba bardhaman   \n",
            "\n",
            "      registered_users  \n",
            "0                 5846  \n",
            "1                  632  \n",
            "2                  262  \n",
            "3                 8143  \n",
            "4                  911  \n",
            "...                ...  \n",
            "5915           1422011  \n",
            "5916           1359420  \n",
            "5917           1346908  \n",
            "5918           1217113  \n",
            "5919           1119310  \n",
            "\n",
            "[5920 rows x 5 columns]\n"
          ]
        }
      ],
      "source": [
        "\n",
        "\n",
        "\n",
        "import pandas as pd\n",
        "import json\n",
        "import os\n",
        "#top user\n",
        "\n",
        "path=\"C:\\\\phonepe\\\\pulse\\\\data\\\\top\\\\user\\\\country\\\\india\\\\state\\\\\"\n",
        "Agg_state_list=os.listdir(path)\n",
        "Agg_state_list\n",
        "#Agg_state_list--> to get the list of states in India\n",
        "\n",
        "#<------------------------------------------------------------------------------------------------------------------------------------------------------------------------------------------------------------>#\n",
        "\n",
        "#This is to extract the data's to create a dataframe\n",
        "\n",
        "clm6={'State':[], 'Year':[],'Quater':[], 'district_name':[], 'registered_users':[]} \n",
        "for i in Agg_state_list:\n",
        "    p_i=path+i+\"/\"\n",
        "    \n",
        "    Agg_yr=os.listdir(p_i)   \n",
        "    \n",
        "    for j in Agg_yr:\n",
        "        p_j=p_i+j+\"/\"\n",
        "        \n",
        "        Agg_yr_list=os.listdir(p_j)        \n",
        "        for k in Agg_yr_list:\n",
        "            p_k=p_j+k\n",
        "            Data=open(p_k,'r')\n",
        "            D=json.load(Data)\n",
        "            districts = data.get('districts')\n",
        "            pincodes = data.get('pincodes')\n",
        "            for z in D['data']['districts'] or D['data']['pincodes']:\n",
        "              districtsName = z['name']\n",
        "              registeredUsers = z['registeredUsers']\n",
        "              clm6['registered_users'].append(registeredUsers)\n",
        "              clm6['district_name'].append(districtsName)\n",
        "              clm6['State'].append(i)\n",
        "              clm6['Year'].append(j)\n",
        "              clm6['Quater'].append(int(k.strip('.json')))\n",
        "#pd.DataFrame(clm)\n",
        "\n",
        "df_top_user=pd.DataFrame(clm6)\n",
        "print(df_top_user)\n",
        "\n",
        "              "
      ]
    },
    {
      "cell_type": "code",
      "execution_count": 26,
      "metadata": {},
      "outputs": [
        {
          "data": {
            "text/plain": [
              "5920"
            ]
          },
          "execution_count": 26,
          "metadata": {},
          "output_type": "execute_result"
        }
      ],
      "source": [
        "#dat = sqlite3.connect('phonepe.db')\n",
        "#cursor = connection.cursor()\n",
        "#agg_Trans = pd.DataFrame(clm)\n",
        "#agg_Trans.to_sql('top_user', connection, if_exists='replace')"
      ]
    },
    {
      "cell_type": "code",
      "execution_count": 27,
      "metadata": {},
      "outputs": [
        {
          "name": "stdout",
          "output_type": "stream",
          "text": [
            "      index                      State  Year  Quater  \\\n",
            "0         0  andaman-&-nicobar-islands  2018       1   \n",
            "1         1  andaman-&-nicobar-islands  2018       1   \n",
            "2         2  andaman-&-nicobar-islands  2018       1   \n",
            "3         3  andaman-&-nicobar-islands  2018       2   \n",
            "4         4  andaman-&-nicobar-islands  2018       2   \n",
            "...     ...                        ...   ...     ...   \n",
            "5915   5915                west-bengal  2022       4   \n",
            "5916   5916                west-bengal  2022       4   \n",
            "5917   5917                west-bengal  2022       4   \n",
            "5918   5918                west-bengal  2022       4   \n",
            "5919   5919                west-bengal  2022       4   \n",
            "\n",
            "                 district_name  registered_users  \n",
            "0                south andaman              5846  \n",
            "1     north and middle andaman               632  \n",
            "2                     nicobars               262  \n",
            "3                south andaman              8143  \n",
            "4     north and middle andaman               911  \n",
            "...                        ...               ...  \n",
            "5915                    howrah           1422011  \n",
            "5916                     nadia           1359420  \n",
            "5917           purba medinipur           1346908  \n",
            "5918         paschim medinipur           1217113  \n",
            "5919           purba bardhaman           1119310  \n",
            "\n",
            "[5920 rows x 6 columns]\n"
          ]
        }
      ],
      "source": [
        "#dat = sqlite3.connect('phonepe.db')\n",
        "#query = dat.execute(\"SELECT * From top_user\")\n",
        "#cols = [column[0] for column in query.description]\n",
        "#results= pd.DataFrame.from_records(data = query.fetchall(), columns = cols)\n",
        "#print(results)"
      ]
    },
    {
      "cell_type": "code",
      "execution_count": 29,
      "metadata": {
        "id": "3gDUBD_MZ43D"
      },
      "outputs": [
        {
          "data": {
            "text/plain": [
              "5920"
            ]
          },
          "execution_count": 29,
          "metadata": {},
          "output_type": "execute_result"
        }
      ],
      "source": [
        "import sqlite3\n",
        "# Inserting each Data frame into sql server\n",
        "connection = sqlite3.connect(\"phonepe.db\")\n",
        "cursor = connection.cursor()\n",
        "df_aggregated_transaction.to_sql('aggregated_transaction', connection, if_exists='replace')\n",
        "df_aggregated_user.to_sql('aggregated_user', connection, if_exists='replace')\n",
        "df_map_transaction.to_sql('map_transaction', connection, if_exists='replace')\n",
        "df_map_user.to_sql('map_user', connection, if_exists='replace')\n",
        "df_top_transaction.to_sql('top_transaction', connection, if_exists='replace')\n",
        "df_top_user.to_sql('top_user', connection, if_exists='replace')"
      ]
    },
    {
      "cell_type": "code",
      "execution_count": 33,
      "metadata": {},
      "outputs": [
        {
          "name": "stdout",
          "output_type": "stream",
          "text": [
            "SELECT DISTINCT State,district FROM map_transaction GroupBy district\n"
          ]
        }
      ],
      "source": []
    }
  ],
  "metadata": {
    "colab": {
      "provenance": []
    },
    "kernelspec": {
      "display_name": "Python 3",
      "language": "python",
      "name": "python3"
    },
    "language_info": {
      "codemirror_mode": {
        "name": "ipython",
        "version": 3
      },
      "file_extension": ".py",
      "mimetype": "text/x-python",
      "name": "python",
      "nbconvert_exporter": "python",
      "pygments_lexer": "ipython3",
      "version": "3.11.2"
    },
    "vscode": {
      "interpreter": {
        "hash": "1efc29bcd4eea065c3044cb864d131c8385da863afa48ab86b3c5cd926f4f3e2"
      }
    }
  },
  "nbformat": 4,
  "nbformat_minor": 0
}
